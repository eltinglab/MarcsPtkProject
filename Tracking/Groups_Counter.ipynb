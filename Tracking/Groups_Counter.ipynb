{
 "cells": [
  {
   "cell_type": "code",
   "execution_count": 2,
   "metadata": {},
   "outputs": [
    {
     "name": "stdout",
     "output_type": "stream",
     "text": [
      "pygame 1.9.6\n",
      "Hello from the pygame community. https://www.pygame.org/contribute.html\n"
     ]
    }
   ],
   "source": [
    "import cv2\n",
    "import matplotlib.pyplot as plt\n",
    "import pims\n",
    "from pims import Frame"
   ]
  },
  {
   "cell_type": "code",
   "execution_count": 33,
   "metadata": {},
   "outputs": [],
   "source": [
    "images = pims.open(r'E:\\KFiberSplaying\\AblationExperiments\\IntermediateVids\\Fibers\\NewData\\A7_fiber.tif')\n",
    "\n",
    "\n",
    "\n",
    "frameRate = 1/0.28         # frames/s for video IN REAL TIME (while imaging on the scope)\n",
    "\n",
    "times = []\n",
    "groups = []\n",
    "\n",
    "for i in range(len(images)):\n",
    "    \n",
    "    frame = cv2.resize(images[i], None, fx=4, fy=4, interpolation=cv2.INTER_CUBIC)        # enlarge image of frame\n",
    "    \n",
    "    cv2.imshow('Frames', frame)          # display image\n",
    "    \n",
    "    number = chr(cv2.waitKey())          # holds image until x-ed out of window\n",
    "    \n",
    "    times.append(i/frameRate)\n",
    "    groups.append(int(number))\n",
    "    \n",
    "    cv2.destroyAllWindows()          # clear image to make way for next frame\n",
    "\n",
    "\n",
    "\n",
    "newFile = open('A7_groups.txt','w')          # Create txt file with video-specific name\n",
    "\n",
    "# List the video's timestamps\n",
    "newFile.write('Timestamps (s)\\n')\n",
    "for i in range(len(times)):\n",
    "    newFile.write('{}\\n'.format(times[i]))\n",
    "\n",
    "# List the measured splay angles\n",
    "newFile.write('Splay Groups\\n')\n",
    "for i in range(len(groups)):\n",
    "    newFile.write('{}\\n'.format(groups[i]))\n",
    "\n",
    "newFile.close()"
   ]
  },
  {
   "cell_type": "markdown",
   "metadata": {},
   "source": [
    "# plt.figure(dpi=200)\n",
    "plt.scatter(times, groups, s=1.5, color='red', linewidth=0)          # create plot\n",
    "plt.title('Group Number', fontsize=20)          # plot title\n",
    "plt.xlabel('Time (s)')          # label x-axis\n",
    "plt.ylabel('Counts')          # label y-axis"
   ]
  },
  {
   "cell_type": "code",
   "execution_count": null,
   "metadata": {},
   "outputs": [],
   "source": []
  }
 ],
 "metadata": {
  "kernelspec": {
   "display_name": "Python 3",
   "language": "python",
   "name": "python3"
  },
  "language_info": {
   "codemirror_mode": {
    "name": "ipython",
    "version": 3
   },
   "file_extension": ".py",
   "mimetype": "text/x-python",
   "name": "python",
   "nbconvert_exporter": "python",
   "pygments_lexer": "ipython3",
   "version": "3.7.3"
  }
 },
 "nbformat": 4,
 "nbformat_minor": 2
}
