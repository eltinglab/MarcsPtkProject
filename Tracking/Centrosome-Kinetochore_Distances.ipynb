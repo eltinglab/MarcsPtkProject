{
 "cells": [
  {
   "cell_type": "markdown",
   "metadata": {},
   "source": [
    "# Measuring Pole-Kinetochore Distance Over Time\n",
    "This code is written for the efficient observation and quantification of pole-kinetochore distance. Here, you can label the kinetohcore of an ablated k-fiber stub and its corresponding spindle pole, check your labels, and plot the distance between the two (pole-kinetochore distance) over time."
   ]
  },
  {
   "cell_type": "markdown",
   "metadata": {},
   "source": [
    "In order to import the below packages, they must be downloaded and installed."
   ]
  },
  {
   "cell_type": "code",
   "execution_count": 1,
   "metadata": {},
   "outputs": [
    {
     "name": "stdout",
     "output_type": "stream",
     "text": [
      "pygame 1.9.6\n",
      "Hello from the pygame community. https://www.pygame.org/contribute.html\n"
     ]
    }
   ],
   "source": [
    "import cv2\n",
    "import math\n",
    "import matplotlib.pyplot as plt\n",
    "import moviepy.editor\n",
    "from moviepy.editor import VideoFileClip\n",
    "from moviepy.video.tools.tracking import manual_tracking\n",
    "import numpy as np\n",
    "import os\n",
    "import pims\n",
    "from pims import Frame\n",
    "import pygame"
   ]
  },
  {
   "cell_type": "markdown",
   "metadata": {},
   "source": [
    "# Smoothen Distance Data"
   ]
  },
  {
   "cell_type": "code",
   "execution_count": 2,
   "metadata": {},
   "outputs": [],
   "source": [
    "def smoothenFiberData(smoothLengths, order):\n",
    "    \n",
    "    smoothLengths.clear()\n",
    "    smoothen = []\n",
    "    counter = 0\n",
    "    \n",
    "    for i in range(len(lengths)):\n",
    "        \n",
    "        smoothLengths.append(lengths[i])\n",
    "    \n",
    "    while counter<order:\n",
    "                \n",
    "        smoothL0 = (20*smoothLengths[0] + 15*smoothLengths[1] + 6*smoothLengths[2] + smoothLengths[3])/42\n",
    "        smoothL1 = (15*smoothLengths[0] + 20*smoothLengths[1] + 15*smoothLengths[2] + 6*smoothLengths[3] + smoothLengths[4])/57\n",
    "        smoothL2 = (6*smoothLengths[0] + 15*smoothLengths[1] + 20*smoothLengths[2] + 15*smoothLengths[3] + 6*smoothLengths[4] + smoothLengths[5])/63\n",
    "        \n",
    "        smoothen.append(smoothL0)\n",
    "        smoothen.append(smoothL1)\n",
    "        smoothen.append(smoothL2)\n",
    "        \n",
    "        for i in range(3,len(smoothLengths)-3):\n",
    "            \n",
    "            smoothLI = (smoothLengths[i-3] + 6*smoothLengths[i-2] + 15*smoothLengths[i-1] + 20*smoothLengths[i] + 15*smoothLengths[i+1] + 6*smoothLengths[i+2] + smoothLengths[i+3])/64\n",
    "            smoothen.append(smoothLI)\n",
    "        \n",
    "        smoothLM2 = (smoothLengths[len(lengths)-6] + 6*smoothLengths[len(lengths)-5] + 15*smoothLengths[len(lengths)-4] + 20*smoothLengths[len(lengths)-3] + 15*smoothLengths[len(lengths)-2] + 6*smoothLengths[len(lengths)-1])/63\n",
    "        smoothLM1 = (smoothLengths[len(lengths)-5] + 6*smoothLengths[len(lengths)-4] + 15*smoothLengths[len(lengths)-3] + 20*smoothLengths[len(lengths)-2] + 15*smoothLengths[len(lengths)-1])/57\n",
    "        smoothLM0 = (smoothLengths[len(lengths)-4] + 6*smoothLengths[len(lengths)-3] + 15*smoothLengths[len(lengths)-2] + 20*smoothLengths[len(lengths)-1])/42\n",
    "        \n",
    "        smoothen.append(smoothLM2)\n",
    "        smoothen.append(smoothLM1)\n",
    "        smoothen.append(smoothLM0)\n",
    "        \n",
    "        smoothLengths.clear()\n",
    "        \n",
    "        for i in range(len(smoothen)):\n",
    "            \n",
    "            smoothLengths.append(smoothen[i])\n",
    "        \n",
    "        smoothen.clear()\n",
    "        counter += 1\n",
    "        \n",
    "    return smoothLengths"
   ]
  },
  {
   "cell_type": "markdown",
   "metadata": {},
   "source": [
    "# Load Movie\n",
    "Load the selected movie as both a video (.avi file) and a series of images (with pims).\n",
    "\n",
    "Before employing these two functions, create the necessary files using ImageJ. Since pims.open opens tiff stacks, spacially and temporally crop the original tiff stack and save the new tiff stack. Then, for the VideoFileClip method, save the new tiff stack as a .avi file. Now write the locations of these two new files into their respective functions below.\n",
    "\n",
    "CITATIONS?"
   ]
  },
  {
   "cell_type": "code",
   "execution_count": 3,
   "metadata": {},
   "outputs": [],
   "source": [
    "video = VideoFileClip(r'E:\\KFiberSplaying\\AblationExperiments\\IntermediateVids\\Fibers\\Control\\2021-08-04\\2021-08-04_Control_1_fiber.avi').resize(4)\n",
    "images = pims.open(r'E:\\KFiberSplaying\\AblationExperiments\\IntermediateVids\\Fibers\\Control\\2021-08-04\\2021-08-04_Control_1_fiber.tif')"
   ]
  },
  {
   "cell_type": "markdown",
   "metadata": {},
   "source": [
    "# Collect Important Information About Video\n",
    "Calculate and print the number of frames, duration, and frame rate of the video.\n",
    "These values, along with the video's frame rate, will be useful in later computations.\n",
    "\n",
    "The frame rate is equal to the inverse of the time it takes for the microscope to image a single frame. This time per frame should be written in your notebook, in order to quickly find the video's frame rate, wiithout having to access the movie's metadata."
   ]
  },
  {
   "cell_type": "code",
   "execution_count": 4,
   "metadata": {},
   "outputs": [
    {
     "name": "stdout",
     "output_type": "stream",
     "text": [
      "0.2857142857142857 31.009999999999998 108.535 7.0\n"
     ]
    }
   ],
   "source": [
    "frameRate = 1/3.5         # frames/s for video IN REAL TIME (while imaging on the scope)\n",
    "frames = video.duration*video.fps          # number of frames in video\n",
    "duration = frames/frameRate          # duration of video IN REAL TIME (while imaging on the scope)\n",
    "\n",
    "print(frameRate, frames, duration, video.fps)"
   ]
  },
  {
   "cell_type": "markdown",
   "metadata": {},
   "source": [
    "# Track Pole and Kinetochore\n",
    "Using the manual_tracking function, identify the ablated fiber's centrosome and kinetochore.\n",
    "\n",
    "Upon execution of the below cell, a separate window will appear, displaying the first frame in the video. Selection of the pole and kinetochore, via clicking, must be made within this window. In order to measure the correct distance, click first in the middle of the spindle pole. After the pole has been clicked in a frame, this frame will be replaced by the next frame. Once this process has been repeated for all frames, the video will start over from the first frame. Follow the same procedure for selecting the fiber's kinetochore. Once the pole and kinetochore have been identified for all frames, the separate display window will close, marking the completion of the manual_tracking function.\n",
    "\n",
    "The output of the below cell is a text file (track.txt), containing the user-produced data from the manual_tracking function. This data is retrieved from the output text file via the next code cell.\n",
    "\n",
    "The manual_tracking function can be viewed (in its full glory) at the below URL. https://zulko.github.io/moviepy/_modules/moviepy/video/tools/tracking.html#manual_tracking"
   ]
  },
  {
   "cell_type": "code",
   "execution_count": 5,
   "metadata": {},
   "outputs": [],
   "source": [
    "# Track pole\n",
    "manual_tracking(video, t1=0, t2=video.end, fps=video.fps, nobjects=1, savefile='2021-08-04_Control_1_fiber_track1.txt')          # tracks stub's corners\n",
    "pygame.quit()          # closes display window\n",
    "\n",
    "# Track kinetochore\n",
    "manual_tracking(video, t1=0, t2=video.end, fps=video.fps, nobjects=1, savefile='2021-08-04_Control_1_fiber_track2.txt')          # tracks stub's corners\n",
    "pygame.quit()          # closes display window"
   ]
  },
  {
   "cell_type": "markdown",
   "metadata": {},
   "source": [
    "# Check Pole and Kinetochore Positions & Calculate Pole-Kinetochore Distance\n",
    "Double-check your distance measurements by watching the video, which is displayed in a separate window and includes a sketch of the pole-kinetochore distance (as given by your execution of manual_tracking). This code cell also computes the pole-kinetochore distance in each frame.\n",
    "\n",
    "If any of the reconstructed measurement sketches appear to inaccurately reflect the pole-kinetochore distance, execute the previous code cell. The data in track.txt will be updated, but you should again check these measurements the same way as before.\n",
    "\n",
    "(In the future you may be able to check your selected pole and kinetochore positions frame-by-frame.)\n",
    "\n",
    "CITATIONS?"
   ]
  },
  {
   "cell_type": "code",
   "execution_count": 6,
   "metadata": {},
   "outputs": [],
   "source": [
    "data1 = open('2021-08-04_Control_1_fiber_track1.txt')          # load txt file containing the manual_tracking output data for stub corner positions\n",
    "data2 = open('2021-08-04_Control_1_fiber_track2.txt')\n",
    "\n",
    "# Create empty lists to fill with output splaying data\n",
    "lengths = []          # splay angle values\n",
    "times = []          # time stamps of video's frames\n",
    "\n",
    "x1 = []\n",
    "y1 = []\n",
    "x2 = []\n",
    "y2 = []\n",
    "\n",
    "# Create variables to be used/editted displaying position selections and/or computing splay angles\n",
    "counter = 0          # variable used to iterate over video's frames\n",
    "\n",
    "# Loop over all lines in txt file - nth (non-empty) line corresponds to data from nth frame of video\n",
    "for line in data1.readlines():\n",
    "    \n",
    "    iData1 = line.split()          # divide line into individual values for time stamp and corner positions\n",
    "    \n",
    "    # Execute when line is NOT empty\n",
    "    if iData1[0].isdigit() == True:\n",
    "        \n",
    "        # Record data for current frame (extracted from current line)\n",
    "        times.append(int(iData1[0])/1000*(video.fps/frameRate))          # time stamp\n",
    "        x1.append(int(iData1[1]))          # vertex x-position\n",
    "        y1.append(int(iData1[2]))          # vertex y-position\n",
    "\n",
    "for line in data2.readlines():\n",
    "    \n",
    "    iData2 = line.split()\n",
    "    \n",
    "    if iData2[0].isdigit() == True:\n",
    "        \n",
    "        # Record data for current frame (extracted from current line)\n",
    "        x2.append(int(iData2[1]))          # vertex x-position\n",
    "        y2.append(int(iData2[2]))          # vertex y-position\n",
    "        \n",
    "        \n",
    "for i in range(len(times)):\n",
    "    \n",
    "    #lengths.append(math.sqrt((x1[i]-x2[i])**2+(y1[i]-y2[i])**2))          # one vertex-end side\n",
    "    lengths.append(math.sqrt((x1[i]-x2[i])**2+(y1[i]-y2[i])**2)/49.4576)          # one vertex-end side\n",
    "    \n",
    "    frame = cv2.resize(images[counter], None, fx=4, fy=4, interpolation=cv2.INTER_CUBIC)        # enlarge image of frame\n",
    "    cv2.circle(frame, (x1[i],y1[i]), 4, (0,0,0), -1)          # dot on vertex\n",
    "    cv2.circle(frame, (x2[i],y2[i]), 4, (0,0,0), -1)          # dot on one end\n",
    "    \n",
    "    cv2.imshow('Frames', frame)          # display image\n",
    "    cv2.waitKey(500)          # holds image until x-ed out of window\n",
    "    cv2.destroyAllWindows()          # clear image to make way for next frame\n",
    "    \n",
    "    iData1.clear()          # clear data from current frame\n",
    "    iData2.clear()          # clear data from current frame\n",
    "    counter += 1          # iterate to next frame\n",
    "    \n",
    "#os.remove('track.txt')          # removes txt file created by manual_tracking from computer (DOESN'T WORK YET)"
   ]
  },
  {
   "cell_type": "markdown",
   "metadata": {},
   "source": [
    "# Save Data to txt File\n",
    "Save the pole-kinetochore distance data to a txt file. Please change the name of the file to describe which specific video the data is from. Use the new file to compare with the data from other ablated fibers in another program."
   ]
  },
  {
   "cell_type": "code",
   "execution_count": 7,
   "metadata": {},
   "outputs": [],
   "source": [
    "newFile = open('2021-08-04_Control_1_fiber.txt','w')          # Create txt file with video-specific name\n",
    "\n",
    "# List the video's timestamps\n",
    "newFile.write('Timestamps (s)\\n')\n",
    "for i in range(len(times)):\n",
    "    newFile.write('{}\\n'.format(times[i]))\n",
    "\n",
    "#newFile.write('\\n')          # skip a line\n",
    "\n",
    "# List the measured splay angles\n",
    "newFile.write('Centrosome-Kinetochore Distance (pixels)\\n')\n",
    "for i in range(len(lengths)):\n",
    "    newFile.write('{}\\n'.format(lengths[i]))\n",
    "\n",
    "newFile.close()"
   ]
  },
  {
   "cell_type": "markdown",
   "metadata": {},
   "source": [
    "# Plot Pole-Kinetochore Distance vs Time\n",
    "The cell below constructs a scater plot (with invisible dots) of the ablated k-fiber's pole-kinetochore distance over time with a red line connecting one data point to the next."
   ]
  },
  {
   "cell_type": "code",
   "execution_count": 8,
   "metadata": {},
   "outputs": [
    {
     "data": {
      "text/plain": [
       "Text(0, 0.5, 'CKD ($\\\\mu m$)')"
      ]
     },
     "execution_count": 8,
     "metadata": {},
     "output_type": "execute_result"
    },
    {
     "data": {
      "image/png": "[encoded data removed]",
      "text/plain": [
       "<Figure size 1296x864 with 4 Axes>"
      ]
     },
     "metadata": {
      "needs_background": "light"
     },
     "output_type": "display_data"
    }
   ],
   "source": [
    "smoothLengths = []\n",
    "\n",
    "fig = plt.figure(figsize=[18,12])\n",
    "\n",
    "fig.add_subplot(2,2,1)\n",
    "plt.plot(times, lengths, '-r')          # create plot\n",
    "plt.title('Centrosome-Kinetochore Distance', fontsize=20)          # plot title\n",
    "plt.xlabel('Time (s)')          # label x-axis\n",
    "plt.ylabel('CKD ($\\mu m$)')          # label y-axis\n",
    "\n",
    "smoothFiber1 = smoothenFiberData(smoothLengths, 1)\n",
    "\n",
    "fig.add_subplot(2,2,2)\n",
    "plt.plot(times, smoothFiber1, '-r')          # create plot\n",
    "plt.title('Centrosome-Kinetochore Distance', fontsize=20)          # plot title\n",
    "plt.xlabel('Time (s)')          # label x-axis\n",
    "plt.ylabel('CKD ($\\mu m$)')          # label y-axis\n",
    "\n",
    "smoothFiber10 = smoothenFiberData(smoothLengths, 10)\n",
    "\n",
    "fig.add_subplot(2,2,3)\n",
    "plt.plot(times, smoothFiber10, '-r')          # create plot\n",
    "plt.title('Centrosome-Kinetochore Distance', fontsize=20)          # plot title\n",
    "plt.xlabel('Time (s)')          # label x-axis\n",
    "plt.ylabel('CKD ($\\mu m$)')          # label y-axis\n",
    "\n",
    "smoothFiber100 = smoothenFiberData(smoothLengths, 100)\n",
    "\n",
    "fig.add_subplot(2,2,4)\n",
    "plt.plot(times, smoothFiber100, '-r')          # create plot\n",
    "plt.title('Centrosome-Kinetochore Distance', fontsize=20)          # plot title\n",
    "plt.xlabel('Time (s)')          # label x-axis\n",
    "plt.ylabel('CKD ($\\mu m$)')          # label y-axis"
   ]
  },
  {
   "cell_type": "code",
   "execution_count": 23,
   "metadata": {},
   "outputs": [
    {
     "name": "stdout",
     "output_type": "stream",
     "text": [
      "37 37\n"
     ]
    }
   ],
   "source": [
    "print(len(images), len(times))"
   ]
  },
  {
   "cell_type": "markdown",
   "metadata": {},
   "source": [
    "# Possible Improvements to Code\n",
    "1) Draw angles with red lines (or any color other than grayscale)\n",
    "\n",
    "2) Be able to edit stub corner positions for individual frames\n",
    "\n",
    "3) Erase text file after extracting data"
   ]
  },
  {
   "cell_type": "code",
   "execution_count": null,
   "metadata": {},
   "outputs": [],
   "source": []
  }
 ],
 "metadata": {
  "kernelspec": {
   "display_name": "Python 3",
   "language": "python",
   "name": "python3"
  },
  "language_info": {
   "codemirror_mode": {
    "name": "ipython",
    "version": 3
   },
   "file_extension": ".py",
   "mimetype": "text/x-python",
   "name": "python",
   "nbconvert_exporter": "python",
   "pygments_lexer": "ipython3",
   "version": "3.7.3"
  }
 },
 "nbformat": 4,
 "nbformat_minor": 2
}
