{
 "cells": [
  {
   "cell_type": "markdown",
   "metadata": {},
   "source": [
    "# Measuring Stub Splaying Angles Over Time\n",
    "This code is written for the efficient observation and quantification of k-fiber stub splaying. Here, you can label splayed MT bunches, check your labels, and plot the degree of the stub's splaying over time."
   ]
  },
  {
   "cell_type": "markdown",
   "metadata": {},
   "source": [
    "In order to import the below packages, they must be downloaded and installed."
   ]
  },
  {
   "cell_type": "code",
   "execution_count": 1,
   "metadata": {},
   "outputs": [
    {
     "name": "stdout",
     "output_type": "stream",
     "text": [
      "pygame 1.9.6\n",
      "Hello from the pygame community. https://www.pygame.org/contribute.html\n"
     ]
    }
   ],
   "source": [
    "import cv2\n",
    "import math\n",
    "import matplotlib.pyplot as plt\n",
    "import moviepy.editor\n",
    "from moviepy.editor import VideoFileClip\n",
    "from moviepy.video.tools.tracking import manual_tracking\n",
    "import numpy as np\n",
    "import os\n",
    "import pims\n",
    "from pims import Frame\n",
    "import pygame"
   ]
  },
  {
   "cell_type": "code",
   "execution_count": 2,
   "metadata": {},
   "outputs": [],
   "source": [
    "def smoothenAngles(smoothAngles, order):\n",
    "    \n",
    "    smoothAngles.clear()\n",
    "    smoothen = []\n",
    "    counter = 0\n",
    "    \n",
    "    for i in range(len(angles)):\n",
    "        smoothAngles.append(angles[i])\n",
    "        #smoothen.append([])\n",
    "    \n",
    "    while counter<order:\n",
    "        \n",
    "        smoothAng0 = (20*smoothAngles[0] + 15*smoothAngles[1] + 6*smoothAngles[2] + smoothAngles[3])/42\n",
    "        smoothAng1 = (15*smoothAngles[0] + 20*smoothAngles[1] + 15*smoothAngles[2] + 6*smoothAngles[3] + smoothAngles[4])/57\n",
    "        smoothAng2 = (6*smoothAngles[0] + 15*smoothAngles[1]+ 20*smoothAngles[2] + 15*smoothAngles[3] + 6*smoothAngles[4] + smoothAngles[5])/63\n",
    "        \n",
    "        smoothen.append(smoothAng0)\n",
    "        smoothen.append(smoothAng1)\n",
    "        smoothen.append(smoothAng2)\n",
    "        \n",
    "        for i in range(3,len(angles)-3):\n",
    "            \n",
    "            smoothAngI = (smoothAngles[i-3] + 6*smoothAngles[i-2] + 15*smoothAngles[i-1]+ 20*smoothAngles[i] + 15*smoothAngles[i+1] + 6*smoothAngles[i+2] + smoothAngles[i+3])/64\n",
    "            smoothen.append(smoothAngI)\n",
    "        \n",
    "        smoothAngM2 = (smoothAngles[len(angles)-6] + 6*smoothAngles[len(angles)-5] + 15*smoothAngles[len(angles)-4] + 20*smoothAngles[len(angles)-3] + 15*smoothAngles[len(angles)-2] + 6*smoothAngles[len(angles)-1])/63\n",
    "        smoothAngM1 = (smoothAngles[len(angles)-5] + 6*smoothAngles[len(angles)-4] + 15*smoothAngles[len(angles)-3] + 20*smoothAngles[len(angles)-2] + 15*smoothAngles[len(angles)-1])/57\n",
    "        smoothAngM0 = (smoothAngles[len(angles)-4] + 6*smoothAngles[len(angles)-3] + 15*smoothAngles[len(angles)-2] + 20*smoothAngles[len(angles)-1])/42\n",
    "        \n",
    "        smoothen.append(smoothAngM2)\n",
    "        smoothen.append(smoothAngM1)\n",
    "        smoothen.append(smoothAngM0)\n",
    "        \n",
    "        smoothAngles.clear()\n",
    "        \n",
    "        for i in range(len(smoothen)):\n",
    "            smoothAngles.append(smoothen[i])\n",
    "        \n",
    "        smoothen.clear()\n",
    "        counter += 1"
   ]
  },
  {
   "cell_type": "markdown",
   "metadata": {},
   "source": [
    "# Load Movie\n",
    "Load the selected movie as both a video (.avi file) and a series of images (with pims).\n",
    "\n",
    "Before employing these two functions, create the necessary files using ImageJ. Since pims.open opens tiff stacks, spacially and temporally crop the original tiff stack and save the new tiff stack. Then, for the VideoFileClip method, save the new tiff stack as a .avi file. Now write the locations of these two new files into their respective functions below.\n",
    "\n",
    "CITATIONS?"
   ]
  },
  {
   "cell_type": "code",
   "execution_count": 30,
   "metadata": {},
   "outputs": [],
   "source": [
    "video = VideoFileClip(r'E:\\KFiberSplaying\\AblationExperiments\\IntermediateVids\\NewClips\\F8_stub.avi').resize(6)\n",
    "images = pims.open(r'E:\\KFiberSplaying\\AblationExperiments\\IntermediateVids\\NewClips\\F8_stub.tif')"
   ]
  },
  {
   "cell_type": "markdown",
   "metadata": {},
   "source": [
    "# Collect Important Information About Video\n",
    "Calculate and print the number of frames, duration, and frame rate of the video.\n",
    "These values, along with the video's frame rate, will be useful in later computations.\n",
    "\n",
    "The frame rate is equal to the inverse of the time it takes for the microscope to image a single frame. This time per frame should be written in your notebook, in order to quickly find the video's frame rate, wiithout having to access the movie's metadata."
   ]
  },
  {
   "cell_type": "code",
   "execution_count": 31,
   "metadata": {},
   "outputs": [
    {
     "name": "stdout",
     "output_type": "stream",
     "text": [
      "0.2857142857142857 14.98 52.43000000000001 7.0\n"
     ]
    }
   ],
   "source": [
    "frameRate = 1/3.5         # frames/sec for video IN REAL TIME (while imaging on the scope)\n",
    "frames = video.duration*video.fps          # number of frames in video\n",
    "duration = frames/frameRate          # duration of video IN REAL TIME (while imaging on the scope)\n",
    "frames2 = video.duration/frameRate\n",
    "\n",
    "print(frameRate, frames, duration, video.fps)"
   ]
  },
  {
   "cell_type": "markdown",
   "metadata": {},
   "source": [
    "# Set & Test Threshold Angle for Splaying\n",
    "Use the splayThreshold field to assign a threshold angle for stub splaying. This angle will be used in subsequent cells for determining when the stub can be considered \"splayed\". Check to make sure that this is an adequate threshold value by viewing an example of two splayed MT bunches, displayed in the pop-up window that will appear upon execution of the cell. When the stub is splayed at a angle larger that what is shown, it will be designated as a \"splayed\" stub. When the splaying angle is smaller, the stub will be considered to be not \"splayed\".\n",
    "\n",
    "If you wish to change the threshold angle, simply change the value of splayThreshold, re-execute the below cell, and repeat the process described above.\n",
    "\n",
    "NOTE: The user-assigned threshold angle sould not exceed 90 degrees."
   ]
  },
  {
   "cell_type": "code",
   "execution_count": 32,
   "metadata": {},
   "outputs": [],
   "source": [
    "splayThreshold = 15          # splay angle threshold (in degrees) to determine whether stub is splayed\n",
    "\n",
    "# Execute when threshold angle exceeds 90 degrees\n",
    "if splayThreshold > 90:\n",
    "    print('Threshold splaying angle should not exceed 90 degrees')          # Message to user to change angle value\n",
    "\n",
    "# Execute when threshold angle doesn't exceed 90 degrees\n",
    "else:\n",
    "    splayThreshRads = math.radians(splayThreshold)          # splay angle in radians\n",
    "    angleSideX = int(round(50+500*math.cos(splayThreshRads)))          # x-coord of end of angled line \n",
    "    angleSideY = int(round(550-500*math.sin(splayThreshRads)))          # y-coord of end of angled line\n",
    "    \n",
    "    # Create and edit image of threshold angle\n",
    "    exampleAngle = np.zeros((600,600,3), np.uint8)          # creates blank black image\n",
    "    cv2.line(exampleAngle, (50,550), (550,550), (255,255,255), 2)          # draws flat line on bottom of image\n",
    "    cv2.line(exampleAngle, (50,550), (angleSideX,angleSideY), (255,255,255), 2)          # draws line at threshold angle\n",
    "    \n",
    "    # Display sketch of threshold angle\n",
    "    cv2.imshow('Splay Angle Threshold', exampleAngle)          # displays angle sketch in separate window\n",
    "    cv2.waitKey()          # holds window until x-ed out\n",
    "    cv2.destroyAllWindows()          # closes window when x-ed out"
   ]
  },
  {
   "cell_type": "markdown",
   "metadata": {},
   "source": [
    "# Track Stub's Corners\n",
    "Using the manual_tracking function, identify the stub's vertex and the ends of its MT fragments that are the most separated at the ablation spot.\n",
    "\n",
    "Upon execution of the below cell, a separate window will appear, displaying the first frame in the video. Selection of the stub's corners, via clicking, must be made within this window. In order to measure the correct angle, click first on the vertex of the stub and then on the two ablation-side ends. After three clicks in a frame, this frame will be replaced by the next frame. Repeat this process for all frames. Once the stub's corners have been identified for all frames, the separate display window will close, marking the completion of the manual_tracking function.\n",
    "\n",
    "The output of the below cell is a text file (track.txt), containing the user-produced data from the manual_tracking function. This data is retrieved from the output text file via the next code cell.\n",
    "\n",
    "The manual_tracking function can be viewed (in its full glory) at the below URL. https://zulko.github.io/moviepy/_modules/moviepy/video/tools/tracking.html#manual_tracking"
   ]
  },
  {
   "cell_type": "code",
   "execution_count": 33,
   "metadata": {},
   "outputs": [],
   "source": [
    "manual_tracking(video, t1=0, t2=video.end, fps=video.fps, nobjects=3, savefile='F8_stub_track.txt')          # tracks stub's corners\n",
    "pygame.quit()          # closes display window"
   ]
  },
  {
   "cell_type": "markdown",
   "metadata": {},
   "source": [
    "# Check Corner Positions & Calculate Splay Angles\n",
    "Double-check your angle measurements by watching the video, which is displayed in a separate window and includes a sketch of the angle (as given by your execution of manual_tracking). This code cell also computes the splay angle in each frame.\n",
    "\n",
    "If any of the reconstructed measurement sketches appear to inaccurately reflect the stub's shape, execute the previous code cell. The data in track.txt will be updated, but you should again check these measurements the same way as before.\n",
    "\n",
    "(In the future you may be able to check your selected corner positions frame-by-frame.)\n",
    "\n",
    "CITATIONS?"
   ]
  },
  {
   "cell_type": "code",
   "execution_count": 34,
   "metadata": {},
   "outputs": [],
   "source": [
    "data = open('F8_stub_track.txt')          # load txt file containing the manual_tracking output data for stub corner positions\n",
    "\n",
    "# Create empty lists to fill with output splaying data\n",
    "angles = []          # splay angle values\n",
    "splayTimes = []          # durations of splaying occurances\n",
    "times = []          # time stamps of video's frames\n",
    "\n",
    "# Create variables to be used/editted displaying position selections and/or computing splay angles\n",
    "counter = 0          # variable used to iterate over video's frames\n",
    "splayT = 0          # duration of current splaying occurance\n",
    "splayBefore = False          # boolean telling whether stub was splayed (beyond the threshold) in previous frame\n",
    "\n",
    "\n",
    "# Loop over all lines in txt file - nth (non-empty) line corresponds to data from nth frame of video\n",
    "for line in data.readlines():\n",
    "    \n",
    "    iData = line.split()          # divide line into individual values for time stamp and corner positions\n",
    "    \n",
    "    # Execute when line is NOT empty\n",
    "    if iData[0].isdigit() == True:\n",
    "        \n",
    "        # Record data for current frame (extracted from current line)\n",
    "        t = int(iData[0])/1000*(video.fps/frameRate)          # time stamp\n",
    "        x1 = int(iData[1])          # vertex x-position\n",
    "        y1 = int(iData[2])          # vertex y-position\n",
    "        x2 = int(iData[4])          # first end x-position\n",
    "        y2 = int(iData[5])          # first end y-position\n",
    "        x3 = int(iData[7])          # second end x-position\n",
    "        y3 = int(iData[8])          # second end y-position\n",
    "        \n",
    "        # Calculate side lengths of triangle formed by stub corners\n",
    "        side1 = math.sqrt((x1-x2)**2+(y1-y2)**2)          # one vertex-end side\n",
    "        side2 = math.sqrt((x1-x3)**2+(y1-y3)**2)          # other vertex-end side\n",
    "        side3 = math.sqrt((x2-x3)**2+(y2-y3)**2)          # end-end side\n",
    "        \n",
    "        # Execute when any stub corners are in same position (stub ends not splayed)\n",
    "        if side1 == 0 or side2 == 0 or side3 == 0:\n",
    "            angle = 0          # assign zero for splay angle\n",
    "        \n",
    "        # Executed when stub ends are splayed\n",
    "        else:\n",
    "            angleRad = math.acos((side1**2+side2**2-side3**2)/(2*side1*side2))          # Compute splay angle (in radians)\n",
    "            angle = math.degrees(angleRad)          # Convert splay angle value to degrees\n",
    "            \n",
    "            # Execute when on last frame and stub splayed\n",
    "            if counter >= frames-1:\n",
    "                if splayT != 0:\n",
    "                    splayTimes.append(splayT)          # append current splaying duration to list\n",
    "            \n",
    "            # Execute when not on last frame\n",
    "            else:\n",
    "                \n",
    "                # Execute when splay angle larger than threshold\n",
    "                if angle > splayThreshold:\n",
    "                    splayT += 1/frameRate          # increase duration of current splaying by length of one time step\n",
    "                    splayBefore = True\n",
    "                \n",
    "                # Execute when splay angle smaller than threshold\n",
    "                else:\n",
    "                    if splayBefore == True:\n",
    "                        splayTimes.append(splayT)          # append current splaying duration to list (if not zero)\n",
    "                    splayT = 0          # set duration of current splaying to zero\n",
    "                    splayBefore = False\n",
    "        \n",
    "        # Draw angles on frame\n",
    "        frame = cv2.resize(images[counter], None, fx=6, fy=6, interpolation=cv2.INTER_CUBIC)          # enlarge image of frame\n",
    "        cv2.line(frame, (x1,y1), (x2,y2), (0,0,0), 2)          # line on one vertex-end side\n",
    "        cv2.line(frame, (x1,y1), (x3,y3), (0,0,0), 2)          # line on other vertex-end side\n",
    "        cv2.circle(frame, (x1,y1), 4, (0,0,0), -1)          # dot on vertex\n",
    "        cv2.circle(frame, (x2,y2), 4, (0,0,0), -1)          # dot on one end\n",
    "        cv2.circle(frame, (x3,y3), 4, (0,0,0), -1)          # dot on other end\n",
    "        \n",
    "        # Display frame with angle sketch overlaid\n",
    "        cv2.imshow('Frames', frame)          # display image\n",
    "        cv2.waitKey(1000)          # holds image until x-ed out of window\n",
    "        cv2.destroyAllWindows()          # clear image to make way for next frame\n",
    "        \n",
    "        # Write data and move to next frame\n",
    "        times.append(t)          # append time stamp to list\n",
    "        angles.append(angle)          # append splay angle to list\n",
    "        iData.clear()          # clear data from current frame\n",
    "        counter += 1          # iterate to next frame\n",
    "    \n",
    "#os.remove('track.txt')          # removes txt file created by manual_tracking from computer (DOESN'T WORK YET)"
   ]
  },
  {
   "cell_type": "markdown",
   "metadata": {},
   "source": [
    "# Smoothen Splay Angle Data"
   ]
  },
  {
   "cell_type": "code",
   "execution_count": 35,
   "metadata": {},
   "outputs": [],
   "source": [
    "smoothAngles = []\n",
    "\n",
    "smoothAngles1 = []\n",
    "\n",
    "smoothenAngles(smoothAngles, 1)\n",
    "\n",
    "for i in range(len(angles)):\n",
    "    smoothAngles1.append(smoothAngles[i])\n",
    "\n",
    "smoothAngles.clear()\n",
    "\n",
    "smoothAngles10 = []\n",
    "\n",
    "smoothenAngles(smoothAngles, 10)\n",
    "\n",
    "for i in range(len(angles)):\n",
    "    smoothAngles10.append(smoothAngles[i])\n",
    "\n",
    "smoothAngles.clear()\n",
    "\n",
    "smoothAngles100 = []\n",
    "\n",
    "smoothenAngles(smoothAngles, 100)\n",
    "\n",
    "for i in range(len(angles)):\n",
    "    smoothAngles100.append(smoothAngles[i])"
   ]
  },
  {
   "cell_type": "markdown",
   "metadata": {},
   "source": [
    "# Save Data to txt File\n",
    "Save the splay angle data, along with the computed splaying durations and timestamps, to a txt file. Please change the name of the file to describe which specific splaying video the data is from. Use the new file to compare with the data from other splayings in another program."
   ]
  },
  {
   "cell_type": "code",
   "execution_count": 36,
   "metadata": {},
   "outputs": [],
   "source": [
    "newFile = open('F8_stub.txt','w')          # Create txt file with video-specific name\n",
    "\n",
    "# List the video's timestamps\n",
    "newFile.write('Timestamps (s)\\n')\n",
    "for i in range(len(times)):\n",
    "    newFile.write('{}\\n'.format(times[i]))\n",
    "\n",
    "#newFile.write('\\n')          # skip a line\n",
    "\n",
    "# List the measured splay angles\n",
    "newFile.write('Splay Angles (degrees)\\n')\n",
    "for i in range(len(angles)):\n",
    "    newFile.write('{}\\n'.format(angles[i]))\n",
    "\n",
    "# List the smoothened splay angles\n",
    "newFile.write('Smooth Splay Angles - 1st order (degrees)\\n')\n",
    "for i in range(len(smoothAngles)):\n",
    "    newFile.write('{}\\n'.format(smoothAngles[i]))\n",
    "\n",
    "# List the smoothened splay angles\n",
    "newFile.write('Smooth Splay Angles - 10th order (degrees)\\n')\n",
    "for i in range(len(smoothAngles)):\n",
    "    newFile.write('{}\\n'.format(smoothAngles[i]))\n",
    "\n",
    "# List the smoothened splay angles\n",
    "newFile.write('Smooth Splay Angles - 100th order (degrees)\\n')\n",
    "for i in range(len(smoothAngles)):\n",
    "    newFile.write('{}\\n'.format(smoothAngles[i]))\n",
    "\n",
    "#newFile.write('\\n')          # skip a line\n",
    "\n",
    "# List the calculated splaying durations\n",
    "newFile.write('Splaying Durations\\n')\n",
    "for j in range(len(splayTimes)):\n",
    "    newFile.write('{}\\n'.format(splayTimes[j]))\n",
    "\n",
    "newFile.close()"
   ]
  },
  {
   "cell_type": "markdown",
   "metadata": {},
   "source": [
    "# Print Results\n",
    "Print any/all of the quantities computed in the above cells."
   ]
  },
  {
   "cell_type": "code",
   "execution_count": 203,
   "metadata": {},
   "outputs": [],
   "source": [
    "#print(\"Time Stamps = \",times)          # time steps for every frame\n",
    "#print()\n",
    "#print(\"Splaying Angles = \",angles)          # splay angles for every frame\n",
    "#print()\n",
    "#print(\"Splay Durations = \",splayTimes,\"(seconds)\")          # durations of splaying occurances"
   ]
  },
  {
   "cell_type": "markdown",
   "metadata": {},
   "source": [
    "# Plot Splay Angle vs Time\n",
    "The cell below constructs a scater plot (with invisible dots) of the stub's splaying angle over time with a red line connecting one data point to the next."
   ]
  },
  {
   "cell_type": "code",
   "execution_count": 37,
   "metadata": {},
   "outputs": [],
   "source": [
    "times2 = []\n",
    "\n",
    "for i in range(len(times)):\n",
    "    times2.append(times[i]/60)\n",
    "\n",
    "\n",
    "plt.figure(dpi=500)\n",
    "plt.plot(times2, angles, c='blue')\n",
    "plt.xlim(0)\n",
    "plt.ylim(0)\n",
    "#plt.xticks([0,1,2,3])\n",
    "#plt.yticks([0,20,40,60,80])\n",
    "plt.title('Stub Splaying', fontsize=20)          # plot title\n",
    "plt.xlabel('Time (min)')          # label x-axis\n",
    "plt.ylabel('Angle (degrees)')          # label y-axis\n",
    "plt.close()"
   ]
  },
  {
   "cell_type": "code",
   "execution_count": 38,
   "metadata": {},
   "outputs": [
    {
     "name": "stdout",
     "output_type": "stream",
     "text": [
      "15\n"
     ]
    },
    {
     "data": {
      "image/png": "[encoded data removed]",
      "text/plain": [
       "<Figure size 864x576 with 4 Axes>"
      ]
     },
     "metadata": {
      "needs_background": "light"
     },
     "output_type": "display_data"
    }
   ],
   "source": [
    "fig = plt.figure(figsize=[12,8])\n",
    "\n",
    "fig.add_subplot(2,2,1)\n",
    "plt.plot(times, angles, '-r')          # create plot\n",
    "plt.fill_between(times, angles, 0, color='mistyrose')\n",
    "plt.xlim(0,np.amax(times))\n",
    "plt.ylim(bottom=0)\n",
    "#plt.title('Stub Splaying', fontsize=20)          # plot title\n",
    "plt.xlabel('Time (s)')          # label x-axis\n",
    "plt.ylabel('Splay Angle (degrees)')          # label y-axis\n",
    "#plt.axis('off')\n",
    "\n",
    "fig.add_subplot(2,2,2)\n",
    "plt.plot(times, smoothAngles1, '-r')          # create plot\n",
    "plt.fill_between(times, smoothAngles1, 0, color='mistyrose')\n",
    "plt.xlim(0,np.amax(times))\n",
    "plt.ylim(bottom=0)\n",
    "#plt.title('Stub Splaying (1st order)', fontsize=20)          # plot title\n",
    "plt.xlabel('Time (s)')          # label x-axis\n",
    "plt.ylabel('Splay Angle (degrees)')          # label y-axis\n",
    "#plt.axis('off')\n",
    "\n",
    "fig.add_subplot(2,2,3)\n",
    "plt.plot(times, smoothAngles10, '-r')          # create plot\n",
    "plt.fill_between(times, smoothAngles10, 0, color='mistyrose')\n",
    "plt.xlim(0,np.amax(times))\n",
    "plt.ylim(bottom=0)\n",
    "#plt.title('Stub Splaying (10th order)', fontsize=20)          # plot title\n",
    "plt.xlabel('Time (s)')          # label x-axis\n",
    "plt.ylabel('Splay Angle (degrees)')          # label y-axis\n",
    "#plt.axis('off')\n",
    "\n",
    "fig.add_subplot(2,2,4)\n",
    "plt.plot(times, smoothAngles100, '-r')          # create plot\n",
    "plt.fill_between(times, smoothAngles100, 0, color='mistyrose')\n",
    "plt.xlim(0,np.amax(times))\n",
    "plt.ylim(bottom=0)\n",
    "#plt.title('Stub Splaying (100th order)', fontsize=20)          # plot title\n",
    "plt.xlabel('Time (s)')          # label x-axis\n",
    "plt.ylabel('Splay Angle (degrees)')          # label y-axis\n",
    "#plt.axis('off')\n",
    "\n",
    "print(len(smoothAngles10))"
   ]
  },
  {
   "cell_type": "markdown",
   "metadata": {},
   "source": [
    "# Possible Improvements to Code\n",
    "1) Draw angles with red lines (or any color other than grayscale)\n",
    "\n",
    "2) Be able to edit stub corner positions for individual frames\n",
    "\n",
    "3) Erase text file after extracting data"
   ]
  },
  {
   "cell_type": "code",
   "execution_count": null,
   "metadata": {},
   "outputs": [],
   "source": []
  }
 ],
 "metadata": {
  "kernelspec": {
   "display_name": "Python 3",
   "language": "python",
   "name": "python3"
  },
  "language_info": {
   "codemirror_mode": {
    "name": "ipython",
    "version": 3
   },
   "file_extension": ".py",
   "mimetype": "text/x-python",
   "name": "python",
   "nbconvert_exporter": "python",
   "pygments_lexer": "ipython3",
   "version": "3.7.3"
  }
 },
 "nbformat": 4,
 "nbformat_minor": 2
}
